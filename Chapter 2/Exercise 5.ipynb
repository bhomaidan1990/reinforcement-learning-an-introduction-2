{
  "nbformat": 4,
  "nbformat_minor": 0,
  "metadata": {
    "colab": {
      "name": "Exercise 2.5.ipynb",
      "provenance": [],
      "collapsed_sections": [],
      "toc_visible": true
    },
    "kernelspec": {
      "name": "swift",
      "display_name": "Swift"
    },
    "nteract": {
      "version": "0.23.3"
    }
  },
  "cells": [
    {
      "cell_type": "markdown",
      "metadata": {
        "id": "r67aNfYc255C"
      },
      "source": [
        "# Reinforcement Learning, An Introduction - *Sutton & Barto '18*\n",
        "\n",
        "[![GitHubBadge]][GitHubLink] [![ColabBadge]][ColabLink]\n",
        "\n",
        "## Chapter 2 - Multi-armed Bandits\n",
        "\n",
        "### Exercise 2.5 - Non-Stationary Problem\n",
        "\n",
        "\n",
        " \n",
        "Design and conduct an experiment to demonstrate the difficulties that sample-average methods have for non-stationary problems. Use a modified version of the 10-armed testbed in which all the $q_*(a)$ start out equal and then take independent random walks (say by adding a normally distributed increment with mean zero and standard deviation 0.01 to all the $q_*(a)$ on each step). Prepare plots like Figure 2.2 for an action-value method using sample averages, incrementally computed, and another action-value method using a constant step-size parameter, $\\alpha$=0.1. Use $\\epsilon$=0.1 and longer runs, say of 10,000 steps.\n",
        "\n",
        "\n",
        "\n",
        "[GitHubBadge]: https://img.shields.io/badge/|-Edit_on_GitHub-green.svg?logo=github \"Edit notebook's source code on GitHub\"\n",
        "[GitHubLink]: https://github.com/vojtamolda/reinforcement-learning-an-introduction/blob/swift/Chapter%202/Exercise%202.5.ipynb\n",
        "\n",
        "[ColabBadge]: https://colab.research.google.com/assets/colab-badge.svg \"Run notebook in Google Colab\"\n",
        "[ColabLink]: https://colab.research.google.com/github/vojtamolda/reinforcement-learning-an-introduction/blob/swift/Chapter%202/Exercise%202.5.ipynb\n"
      ]
    },
    {
      "cell_type": "code",
      "metadata": {
        "id": "J_1dpBmcTeT0",
        "outputId": "5795fb87-e27d-449c-c5f5-b02e6d2e7e87",
        "colab": {
          "base_uri": "https://localhost:8080/",
          "height": 218
        }
      },
      "source": [
        "// Install Packages\n",
        "//%install-swiftpm-flags -c release\n",
        "%install-location /swift/packages\n",
        "\n",
        "%install '.package(url: \"https://github.com/vojtamolda/reinforcement-learning-an-introduction\", .branch(\"swift\"))' ReinforcementLearning\n",
        "//%install '.package(url: \"https://github.com/vojtamolda/Plotly.swift\", from: \"0.3.1\")' Plotly\n",
        "\n",
        "// Clear Output\n",
        "//print(\"\\u{001B}[2J\")"
      ],
      "execution_count": 1,
      "outputs": [
        {
          "output_type": "stream",
          "text": [
            "Installing packages:\n",
            "\t.package(url: \"https://github.com/vojtamolda/reinforcement-learning-an-introduction\", .branch(\"swift\"))\n",
            "\t\tReinforcement Learning - An Introduction\n",
            "With SwiftPM flags: []\n",
            "Working in: /tmp/tmpoyx0_ssb/swift-install\n",
            "'jupyterInstalledPackages' /swift/packages/package: error: product 'Reinforcement Learning - An Introduction' not found. It is required by target 'jupyterInstalledPackages'.\n",
            "warning: dependency 'Reinforcement Learning - An Introduction' is not used by any target\n"
          ],
          "name": "stdout"
        },
        {
          "output_type": "error",
          "ename": "",
          "evalue": "ignored",
          "traceback": [
            "Install Error: swift-build returned nonzero exit code 1."
          ]
        }
      ]
    },
    {
      "cell_type": "code",
      "metadata": {
        "id": "TSrcgMtVubRa"
      },
      "source": [
        "import ReinforcementLearning"
      ],
      "execution_count": null,
      "outputs": []
    },
    {
      "cell_type": "code",
      "metadata": {
        "id": "3lQj0rYDS3g0"
      },
      "source": [
        "let z = MultiArmedBandit()\n",
        "print(z)\n",
        "\n",
        "\n",
        "let a = EpsilonGreedyGambler(z)\n",
        "print(a)"
      ],
      "execution_count": null,
      "outputs": []
    },
    {
      "cell_type": "markdown",
      "metadata": {
        "id": "-DPUrPuNtIYW"
      },
      "source": [
        "## Differentiable PDE Solver\n",
        "\n",
        "The next cell imports three different implementations differentiable shallow water PDE solver from a cloned git repository. The full source code and a readme file can be found in [this GitHub gist](https://gist.github.com/bd85033cf62877e6f8ada68b8bbb32a0.git).\n"
      ]
    },
    {
      "cell_type": "code",
      "metadata": {
        "id": "OmiNmB4e2z4h"
      },
      "source": [
        ""
      ],
      "execution_count": null,
      "outputs": []
    },
    {
      "cell_type": "code",
      "metadata": {
        "id": "GkNHFkp4s8KY"
      },
      "source": [
        "// MARK: - Visualization\n",
        "\n",
        "extension MultiArmedBandit.State {\n",
        "    \n",
        "    var armRewardPlot: Figure {\n",
        "        let numSamples = 1_000\n",
        "        var armIndices = [String]()\n",
        "        var armRewardSamples = [Double]()\n",
        "\n",
        "        for arm in 0..<game.armCount {\n",
        "            let indices = Array(repeating: String(arm), count: numSamples)\n",
        "            let rewardSamples = (0..<numSamples).map {\n",
        "                _ in applying(arm).utility(for: .player(0))\n",
        "            }\n",
        "\n",
        "            armIndices.append(contentsOf: indices)\n",
        "            armRewardSamples.append(contentsOf: rewardSamples)\n",
        "        }\n",
        "        \n",
        "        let armRewardDistributions = Violin(\n",
        "            y: armRewardSamples,\n",
        "            x: armIndices,\n",
        "            points: .off,\n",
        "            meanLine: .init(visible: true)\n",
        "        )\n",
        "        \n",
        "        return Figure(data: [armRewardDistributions])\n",
        "    }\n",
        "}\n",
        "\n",
        "extension ClosedRange: Plotable where Bound: Encodable {\n",
        "    public func encode(toPlotly encoder: Encoder) throws {\n",
        "        try self.encode(to: encoder)\n",
        "    }\n",
        "}"
      ],
      "execution_count": null,
      "outputs": []
    },
    {
      "cell_type": "markdown",
      "metadata": {
        "id": "3TAhpc4D3ZQl"
      },
      "source": [
        "## Benchmarks\n",
        "\n",
        "The following code runs a simulation of a water surface behavior in a rectangular bathtub. There's an initial \"splash\" at the begining. The splash generates surface gravity waves that propagate away from the center and reflect off the domain walls. There's three different versions, one for each implementation of the solver.\n",
        "\n",
        "Implementations that use the `Tensor` type for numerical values also acept the `device` argument. This allows them to run with XLA acceleration."
      ]
    },
    {
      "cell_type": "code",
      "metadata": {
        "jupyter": {
          "source_hidden": false,
          "outputs_hidden": false
        },
        "nteract": {
          "transient": {
            "deleting": false
          }
        },
        "id": "N2ZR02DGpKTn"
      },
      "source": [
        "let n = 256\n",
        "let duration = 512"
      ],
      "execution_count": null,
      "outputs": []
    },
    {
      "cell_type": "markdown",
      "metadata": {
        "id": "LqDnHRBGHwbX"
      },
      "source": [
        "#### A - `ArrayLoopSolution`"
      ]
    },
    {
      "cell_type": "code",
      "metadata": {
        "id": "G3ibX3LSt38i"
      },
      "source": [
        "func splashArrayLoop() {\n",
        "    var initialWaterLevel = [[Float]](repeating: [Float](repeating: 0.0, count: n), count: n)\n",
        "    initialWaterLevel[n / 2][n / 2] = 100\n",
        "\n",
        "    let initialSolution = ArrayLoopSolution(waterLevel: initialWaterLevel)\n",
        "    _ = [ArrayLoopSolution](evolve: initialSolution, for: duration)\n",
        "}"
      ],
      "execution_count": null,
      "outputs": []
    },
    {
      "cell_type": "markdown",
      "metadata": {
        "id": "qV01lB6KH1dC"
      },
      "source": [
        "#### B - `TensorLoopSolution`"
      ]
    },
    {
      "cell_type": "code",
      "metadata": {
        "id": "UrhjMlGy3xeG"
      },
      "source": [
        "func splashTensorLoop(on device: Device) {\n",
        "    var initialWaterLevel = Tensor<Float>(zeros: [n, n], on: device)\n",
        "    initialWaterLevel[n / 2][n / 2] = Tensor<Float>(100, on: device)\n",
        "\n",
        "    let initialSolution = TensorLoopSolution(waterLevel: initialWaterLevel)\n",
        "    _ = [TensorLoopSolution](evolve: initialSolution, for: duration)\n",
        "}"
      ],
      "execution_count": null,
      "outputs": []
    },
    {
      "cell_type": "markdown",
      "metadata": {
        "id": "o5sFqQCkH45N"
      },
      "source": [
        "#### C - `TensorSliceSolution`"
      ]
    },
    {
      "cell_type": "code",
      "metadata": {
        "id": "tCHD-P3wgGN-"
      },
      "source": [
        "func splashTensorSlice(on device: Device) {\n",
        "    var initialWaterLevel = Tensor<Float>(zeros: [n, n], on: device)\n",
        "    initialWaterLevel[n / 2][n / 2] = Tensor<Float>(100, on: device)\n",
        "\n",
        "    let initialSolution = TensorSliceSolution(waterLevel: initialWaterLevel)\n",
        "    _ = [TensorSliceSolution](evolve: initialSolution, for: duration)\n",
        "}"
      ],
      "execution_count": null,
      "outputs": []
    },
    {
      "cell_type": "markdown",
      "metadata": {
        "id": "mbVZjvJoNjFD"
      },
      "source": [
        "#### D - `TensorConvSolution`"
      ]
    },
    {
      "cell_type": "code",
      "metadata": {
        "id": "KiBDfV0XNkZP"
      },
      "source": [
        "func splashTensorConv(on device: Device) {\n",
        "    var initialWaterLevel = Tensor<Float>(zeros: [n, n], on: device)\n",
        "    initialWaterLevel[n / 2][n / 2] = Tensor<Float>(100, on: device)\n",
        "\n",
        "    let initialSolution = TensorConvSolution(waterLevel: initialWaterLevel)\n",
        "    _ = [TensorConvSolution](evolve: initialSolution, for: duration)\n",
        "}"
      ],
      "execution_count": null,
      "outputs": []
    },
    {
      "cell_type": "markdown",
      "metadata": {
        "id": "MKYrWCE5s3ob"
      },
      "source": [
        "## Results\n",
        "\n",
        "Not yet conclusive..."
      ]
    },
    {
      "cell_type": "code",
      "metadata": {
        "id": "FfA4OKIPgtQx"
      },
      "source": [
        "let splashBenchmarks = BenchmarkSuite(name: \"Shallow Water PDE Solver\",\n",
        "                                      settings: Iterations(10), WarmupIterations(2)) { suite in\n",
        "    suite.benchmark(\"Array Loop\") { splashArrayLoop() }\n",
        "\n",
        "    // This is at least 1000x slower. One can easily grow old while running the benchmark :(\n",
        "    //suite.benchmark(\"Tensor Loop\") { splashTensorLoop(on: Device.default) }\n",
        "    //suite.benchmark(\"Tensor Loop (XLA)\") { splashTensorLoop(on: Device.defaultXLA) }\n",
        "\n",
        "    suite.benchmark(\"Tensor Slice\") { splashTensorSlice(on: Device.default) }\n",
        "    suite.benchmark(\"Tensor Slice (XLA)\") { splashTensorSlice(on: Device.defaultXLA) }\n",
        "\n",
        "    suite.benchmark(\"Tensor Conv\") { splashTensorConv(on: Device.default) }\n",
        "    suite.benchmark(\"Tensor Conv (XLA)\") { splashTensorConv(on: Device.defaultXLA) }\n",
        "}"
      ],
      "execution_count": null,
      "outputs": []
    },
    {
      "cell_type": "code",
      "metadata": {
        "id": "Uhq7IKkLcw25"
      },
      "source": [
        "Benchmark.main([splashBenchmarks])"
      ],
      "execution_count": null,
      "outputs": []
    }
  ]
}