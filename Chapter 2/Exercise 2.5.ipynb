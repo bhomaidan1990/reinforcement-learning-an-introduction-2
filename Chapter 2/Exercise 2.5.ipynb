{
  "nbformat": 4,
  "nbformat_minor": 0,
  "metadata": {
    "colab": {
      "name": "Benchmarks.ipynb",
      "provenance": [],
      "collapsed_sections": [],
      "toc_visible": true
    },
    "kernelspec": {
      "name": "swift",
      "display_name": "Swift"
    },
    "nteract": {
      "version": "0.23.3"
    }
  },
  "cells": [
    {
      "cell_type": "markdown",
      "metadata": {
        "id": "r67aNfYc255C",
        "colab_type": "text"
      },
      "source": [
        "# Differentiable Shallow Water PDE Solver - Benchmarks\n",
        "\n",
        "\n",
        "[![GitHubBadge]][GitHubLink] [![ColabBadge]][ColabLink]\n",
        "\n",
        "\n",
        "[ColabBadge]: https://colab.research.google.com/assets/colab-badge.svg \"Run notebook in Google Colab\"\n",
        "[ColabLink]: https://colab.research.google.com/gist/vojtamolda/bd85033cf62877e6f8ada68b8bbb32a0/Benchmarks.ipynb\n",
        "\n",
        "[GitHubBadge]: https://img.shields.io/badge/|-Edit_on_GitHub-green.svg?logo=github \"Edit notebook's source code on GitHub\"\n",
        "[GitHubLink]: https://gist.github.com/vojtamolda/bd85033cf62877e6f8ada68b8bbb32a0#file-benchmarks-ipynb"
      ]
    },
    {
      "cell_type": "code",
      "metadata": {
        "id": "kZRlD4utdPuX",
        "colab_type": "code",
        "colab": {
          "base_uri": "https://localhost:8080/",
          "height": 34
        },
        "outputId": "2ca5e338-1294-4c59-936c-1b8557c3178f"
      },
      "source": [
        "// Clone Gist\n",
        "%system rm --recursive --force Solver\n",
        "%system git clone https://gist.github.com/bd85033cf62877e6f8ada68b8bbb32a0.git Solver\n",
        "\n",
        "// Install Packages\n",
        "%install-swiftpm-flags -c release\n",
        "%install-location /swift/packages\n",
        "\n",
        "%install '.package(url: \"https://github.com/google/swift-benchmark\", .branch(\"master\"))' Benchmark\n",
        "%install '.package(url: \"https://github.com/vojtamolda/Plotly.swift.git\", from: \"0.3.1\")' Plotly\n",
        "%install '.package(url: \"https://github.com/t-ae/Swim.git\", from: \"3.9.0\")' Swim\n",
        "\n",
        "// Clear Output\n",
        "print(\"\\u{001B}[2J\")"
      ],
      "execution_count": 1,
      "outputs": [
        {
          "output_type": "stream",
          "text": [
            "\r\n"
          ],
          "name": "stdout"
        }
      ]
    },
    {
      "cell_type": "code",
      "metadata": {
        "id": "TSrcgMtVubRa",
        "colab_type": "code",
        "colab": {}
      },
      "source": [
        "import TensorFlow\n",
        "import Benchmark"
      ],
      "execution_count": 2,
      "outputs": []
    },
    {
      "cell_type": "markdown",
      "metadata": {
        "id": "-DPUrPuNtIYW",
        "colab_type": "text"
      },
      "source": [
        "## Differentiable PDE Solver\n",
        "\n",
        "The next cell imports three different implementations differentiable shallow water PDE solver from a cloned git repository. The full source code and a readme file can be found in [this GitHub gist](https://gist.github.com/bd85033cf62877e6f8ada68b8bbb32a0.git).\n"
      ]
    },
    {
      "cell_type": "code",
      "metadata": {
        "id": "OmiNmB4e2z4h",
        "colab_type": "code",
        "colab": {}
      },
      "source": [
        "%include \"Solver/Solution.swift\"\n",
        "%include \"Solver/ArrayLoopSolution.swift\"\n",
        "%include \"Solver/TensorLoopSolution.swift\"\n",
        "%include \"Solver/TensorSliceSolution.swift\"\n",
        "%include \"Solver/TensorConvSolution.swift\""
      ],
      "execution_count": 3,
      "outputs": []
    },
    {
      "cell_type": "markdown",
      "metadata": {
        "id": "3TAhpc4D3ZQl",
        "colab_type": "text"
      },
      "source": [
        "## Benchmarks\n",
        "\n",
        "The following code runs a simulation of a water surface behavior in a rectangular bathtub. There's an initial \"splash\" at the begining. The splash generates surface gravity waves that propagate away from the center and reflect off the domain walls. There's three different versions, one for each implementation of the solver.\n",
        "\n",
        "Implementations that use the `Tensor` type for numerical values also acept the `device` argument. This allows them to run with XLA acceleration."
      ]
    },
    {
      "cell_type": "code",
      "metadata": {
        "jupyter": {
          "source_hidden": false,
          "outputs_hidden": false
        },
        "nteract": {
          "transient": {
            "deleting": false
          }
        },
        "id": "N2ZR02DGpKTn",
        "colab_type": "code",
        "colab": {}
      },
      "source": [
        "let n = 256\n",
        "let duration = 512"
      ],
      "execution_count": 4,
      "outputs": []
    },
    {
      "cell_type": "markdown",
      "metadata": {
        "id": "LqDnHRBGHwbX",
        "colab_type": "text"
      },
      "source": [
        "#### A - `ArrayLoopSolution`"
      ]
    },
    {
      "cell_type": "code",
      "metadata": {
        "id": "G3ibX3LSt38i",
        "colab_type": "code",
        "colab": {}
      },
      "source": [
        "func splashArrayLoop() {\n",
        "    var initialWaterLevel = [[Float]](repeating: [Float](repeating: 0.0, count: n), count: n)\n",
        "    initialWaterLevel[n / 2][n / 2] = 100\n",
        "\n",
        "    let initialSolution = ArrayLoopSolution(waterLevel: initialWaterLevel)\n",
        "    _ = [ArrayLoopSolution](evolve: initialSolution, for: duration)\n",
        "}"
      ],
      "execution_count": 5,
      "outputs": []
    },
    {
      "cell_type": "markdown",
      "metadata": {
        "id": "qV01lB6KH1dC",
        "colab_type": "text"
      },
      "source": [
        "#### B - `TensorLoopSolution`"
      ]
    },
    {
      "cell_type": "code",
      "metadata": {
        "id": "UrhjMlGy3xeG",
        "colab_type": "code",
        "colab": {}
      },
      "source": [
        "func splashTensorLoop(on device: Device) {\n",
        "    var initialWaterLevel = Tensor<Float>(zeros: [n, n], on: device)\n",
        "    initialWaterLevel[n / 2][n / 2] = Tensor<Float>(100, on: device)\n",
        "\n",
        "    let initialSolution = TensorLoopSolution(waterLevel: initialWaterLevel)\n",
        "    _ = [TensorLoopSolution](evolve: initialSolution, for: duration)\n",
        "}"
      ],
      "execution_count": 6,
      "outputs": []
    },
    {
      "cell_type": "markdown",
      "metadata": {
        "id": "o5sFqQCkH45N",
        "colab_type": "text"
      },
      "source": [
        "#### C - `TensorSliceSolution`"
      ]
    },
    {
      "cell_type": "code",
      "metadata": {
        "id": "tCHD-P3wgGN-",
        "colab_type": "code",
        "colab": {}
      },
      "source": [
        "func splashTensorSlice(on device: Device) {\n",
        "    var initialWaterLevel = Tensor<Float>(zeros: [n, n], on: device)\n",
        "    initialWaterLevel[n / 2][n / 2] = Tensor<Float>(100, on: device)\n",
        "\n",
        "    let initialSolution = TensorSliceSolution(waterLevel: initialWaterLevel)\n",
        "    _ = [TensorSliceSolution](evolve: initialSolution, for: duration)\n",
        "}"
      ],
      "execution_count": 7,
      "outputs": []
    },
    {
      "cell_type": "markdown",
      "metadata": {
        "id": "mbVZjvJoNjFD",
        "colab_type": "text"
      },
      "source": [
        "#### D - `TensorConvSolution`"
      ]
    },
    {
      "cell_type": "code",
      "metadata": {
        "id": "KiBDfV0XNkZP",
        "colab_type": "code",
        "colab": {}
      },
      "source": [
        "func splashTensorConv(on device: Device) {\n",
        "    var initialWaterLevel = Tensor<Float>(zeros: [n, n], on: device)\n",
        "    initialWaterLevel[n / 2][n / 2] = Tensor<Float>(100, on: device)\n",
        "\n",
        "    let initialSolution = TensorConvSolution(waterLevel: initialWaterLevel)\n",
        "    _ = [TensorConvSolution](evolve: initialSolution, for: duration)\n",
        "}"
      ],
      "execution_count": 8,
      "outputs": []
    },
    {
      "cell_type": "markdown",
      "metadata": {
        "id": "MKYrWCE5s3ob",
        "colab_type": "text"
      },
      "source": [
        "## Results\n",
        "\n",
        "Not yet conclusive..."
      ]
    },
    {
      "cell_type": "code",
      "metadata": {
        "id": "FfA4OKIPgtQx",
        "colab_type": "code",
        "colab": {}
      },
      "source": [
        "let splashBenchmarks = BenchmarkSuite(name: \"Shallow Water PDE Solver\",\n",
        "                                      settings: Iterations(10), WarmupIterations(2)) { suite in\n",
        "    suite.benchmark(\"Array Loop\") { splashArrayLoop() }\n",
        "\n",
        "    // This is at least 1000x slower. One can easily grow old while running the benchmark :(\n",
        "    //suite.benchmark(\"Tensor Loop\") { splashTensorLoop(on: Device.default) }\n",
        "    //suite.benchmark(\"Tensor Loop (XLA)\") { splashTensorLoop(on: Device.defaultXLA) }\n",
        "\n",
        "    suite.benchmark(\"Tensor Slice\") { splashTensorSlice(on: Device.default) }\n",
        "    suite.benchmark(\"Tensor Slice (XLA)\") { splashTensorSlice(on: Device.defaultXLA) }\n",
        "\n",
        "    suite.benchmark(\"Tensor Conv\") { splashTensorConv(on: Device.default) }\n",
        "    suite.benchmark(\"Tensor Conv (XLA)\") { splashTensorConv(on: Device.defaultXLA) }\n",
        "}"
      ],
      "execution_count": 9,
      "outputs": []
    },
    {
      "cell_type": "code",
      "metadata": {
        "id": "Uhq7IKkLcw25",
        "colab_type": "code",
        "colab": {
          "base_uri": "https://localhost:8080/",
          "height": 238
        },
        "outputId": "208b1369-359b-4f58-c806-b8e815f6631b"
      },
      "source": [
        "Benchmark.main([splashBenchmarks])"
      ],
      "execution_count": 10,
      "outputs": [
        {
          "output_type": "stream",
          "text": [
            "running Shallow Water PDE Solver: Array Loop... done! (363294.84 ms)\n",
            "running Shallow Water PDE Solver: Tensor Slice... done! (9566.95 ms)\n",
            "running Shallow Water PDE Solver: Tensor Slice (XLA)... done! (17147.61 ms)\n",
            "running Shallow Water PDE Solver: Tensor Conv... done! (83571.66 ms)\n",
            "running Shallow Water PDE Solver: Tensor Conv (XLA)... done! (19268.14 ms)\n",
            "\n",
            "name                                        time               std        iterations warmup        \n",
            "---------------------------------------------------------------------------------------------------\n",
            "Shallow Water PDE Solver.Array Loop         30268327673.500 ns ±   0.40 %         10 60451444387 ns\n",
            "Shallow Water PDE Solver.Tensor Slice         741456533.500 ns ±   4.13 %         10  2012324321 ns\n",
            "Shallow Water PDE Solver.Tensor Slice (XLA)  1359265173.500 ns ±   2.19 %         10  3534559405 ns\n",
            "Shallow Water PDE Solver.Tensor Conv         7026560678.500 ns ±   2.92 %         10 13381071502 ns\n",
            "Shallow Water PDE Solver.Tensor Conv (XLA)   1580760053.500 ns ±   1.52 %         10  3472683097 ns\n"
          ],
          "name": "stdout"
        }
      ]
    }
  ]
}